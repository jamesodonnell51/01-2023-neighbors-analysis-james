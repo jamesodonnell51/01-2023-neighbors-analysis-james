{
 "cells": [
  {
   "cell_type": "markdown",
   "id": "9d4fa8e0",
   "metadata": {},
   "source": [
    "Analysis of Neighbors posts\n",
    "\n",
    "This notebook creates the following analysis:\n",
    "    - TK\n",
    "    - TK\n",
    "    - TK"
   ]
  },
  {
   "cell_type": "code",
   "execution_count": null,
   "id": "21780e0b",
   "metadata": {},
   "outputs": [],
   "source": []
  }
 ],
 "metadata": {
  "kernelspec": {
   "display_name": "Python 3 (ipykernel)",
   "language": "python",
   "name": "python3"
  },
  "language_info": {
   "codemirror_mode": {
    "name": "ipython",
    "version": 3
   },
   "file_extension": ".py",
   "mimetype": "text/x-python",
   "name": "python",
   "nbconvert_exporter": "python",
   "pygments_lexer": "ipython3",
   "version": "3.9.10"
  }
 },
 "nbformat": 4,
 "nbformat_minor": 5
}
